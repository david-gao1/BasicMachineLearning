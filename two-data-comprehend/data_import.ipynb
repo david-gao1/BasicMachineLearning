{
 "cells": [
  {
   "cell_type": "code",
   "id": "initial_id",
   "metadata": {
    "collapsed": true,
    "ExecuteTime": {
     "end_time": "2025-07-16T12:36:57.981138Z",
     "start_time": "2025-07-16T12:36:55.941657Z"
    }
   },
   "source": [
    "from pandas import read_csv\n",
    "# 使用Pandas导入CSV数据\n",
    "filename = 'pima_data.csv'\n",
    "names = ['preg', 'plas', 'pres', 'skin', 'test', 'mass', 'pedi', 'age', 'class']\n",
    "data = read_csv(filename, names=names)\n",
    "print(data.shape)"
   ],
   "outputs": [
    {
     "name": "stdout",
     "output_type": "stream",
     "text": [
      "(768, 9)\n"
     ]
    }
   ],
   "execution_count": 1
  },
  {
   "metadata": {
    "ExecuteTime": {
     "end_time": "2025-07-16T12:37:19.139105Z",
     "start_time": "2025-07-16T12:37:19.135264Z"
    }
   },
   "cell_type": "code",
   "source": [
    "from numpy import loadtxt\n",
    "# 使用numpy导入CSV数据\n",
    "filename = 'pima_data.csv'\n",
    "with open(filename, 'rt') as raw_data:\n",
    "    data = loadtxt(raw_data, delimiter=',')\n",
    "    print(data.shape)"
   ],
   "id": "641c600c2547b64",
   "outputs": [
    {
     "name": "stdout",
     "output_type": "stream",
     "text": [
      "(768, 9)\n"
     ]
    }
   ],
   "execution_count": 2
  },
  {
   "metadata": {},
   "cell_type": "markdown",
   "source": "",
   "id": "37fd09f664fbc0ee"
  },
  {
   "metadata": {
    "ExecuteTime": {
     "end_time": "2025-07-16T12:37:47.841135Z",
     "start_time": "2025-07-16T12:37:47.834965Z"
    }
   },
   "cell_type": "code",
   "source": [
    "from csv import reader\n",
    "import numpy as np\n",
    "# 使用标准的Python类库导入CSV数据\n",
    "filename = 'pima_data.csv'\n",
    "with open(filename, 'rt') as raw_data:\n",
    "    readers = reader(raw_data, delimiter=',')\n",
    "    x = list(readers)\n",
    "    data = np.array(x).astype('float')\n",
    "    print(data.shape)"
   ],
   "id": "8cd9c37fe18f2850",
   "outputs": [
    {
     "name": "stdout",
     "output_type": "stream",
     "text": [
      "(768, 9)\n"
     ]
    }
   ],
   "execution_count": 3
  }
 ],
 "metadata": {
  "kernelspec": {
   "display_name": "BasicMachineLearning",
   "language": "python",
   "name": "basicmachinelearning"
  },
  "language_info": {
   "codemirror_mode": {
    "name": "ipython",
    "version": 2
   },
   "file_extension": ".py",
   "mimetype": "text/x-python",
   "name": "python",
   "nbconvert_exporter": "python",
   "pygments_lexer": "ipython2",
   "version": "2.7.6"
  }
 },
 "nbformat": 4,
 "nbformat_minor": 5
}
