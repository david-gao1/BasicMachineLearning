{
 "cells": [
  {
   "cell_type": "code",
   "id": "initial_id",
   "metadata": {
    "collapsed": true,
    "ExecuteTime": {
     "end_time": "2025-07-17T08:03:58.952431Z",
     "start_time": "2025-07-17T08:03:58.943313Z"
    }
   },
   "source": [
    "import pandas as pd\n",
    "from sklearn.feature_selection import SelectKBest, chi2\n",
    "\n",
    "# 加载数据，指定列名\n",
    "names = ['preg', 'plas', 'pres', 'skin', 'test', 'mass', 'pedi', 'age', 'class']\n",
    "data = pd.read_csv('pima_data.csv', names=names)\n",
    "\n",
    "# 分离输入特征X和目标变量y\n",
    "X = data.iloc[:, 0:8]\n",
    "y = data['class']\n",
    "\n",
    "# 创建特征选择器，选择与目标变量最相关的4个特征\n",
    "selector = SelectKBest(score_func=chi2, k=4)\n",
    "\n",
    "# 拟合并转换数据，得到筛选后的特征\n",
    "X_new = selector.fit_transform(X, y)\n",
    "\n",
    "# 获取被选中特征的列名\n",
    "selected_cols = X.columns[selector.get_support()]\n",
    "\n",
    "print(\"SelectKBest选中的特征：\", list(selected_cols))\n",
    "print(pd.DataFrame(X_new, columns=selected_cols))\n"
   ],
   "outputs": [
    {
     "name": "stdout",
     "output_type": "stream",
     "text": [
      "SelectKBest选中的特征： ['plas', 'test', 'mass', 'age']\n",
      "      plas   test  mass   age\n",
      "0    148.0    0.0  33.6  50.0\n",
      "1     85.0    0.0  26.6  31.0\n",
      "2    183.0    0.0  23.3  32.0\n",
      "3     89.0   94.0  28.1  21.0\n",
      "4    137.0  168.0  43.1  33.0\n",
      "..     ...    ...   ...   ...\n",
      "763  101.0  180.0  32.9  63.0\n",
      "764  122.0    0.0  36.8  27.0\n",
      "765  121.0  112.0  26.2  30.0\n",
      "766  126.0    0.0  30.1  47.0\n",
      "767   93.0    0.0  30.4  23.0\n",
      "\n",
      "[768 rows x 4 columns]\n"
     ]
    }
   ],
   "execution_count": 3
  },
  {
   "metadata": {
    "ExecuteTime": {
     "end_time": "2025-07-17T08:26:47.793416Z",
     "start_time": "2025-07-17T08:26:47.748533Z"
    }
   },
   "cell_type": "code",
   "source": [
    "from sklearn.feature_selection import RFE\n",
    "from sklearn.linear_model import LogisticRegression\n",
    "\n",
    "# 加载数据\n",
    "names = ['preg', 'plas', 'pres', 'skin', 'test', 'mass', 'pedi', 'age', 'class']\n",
    "data = pd.read_csv('pima_data.csv', names=names)\n",
    "X = data.iloc[:, 0:8]\n",
    "y = data['class']\n",
    "\n",
    "# 创建逻辑回归模型作为基模型\n",
    "model = LogisticRegression(max_iter=1000)\n",
    "\n",
    "# 创建RFE选择器，递归消除，最终保留3个特征\n",
    "rfe = RFE(model, n_features_to_select=3)\n",
    "\n",
    "# 拟合RFE选择器\n",
    "fit = rfe.fit(X, y)\n",
    "\n",
    "# 获取被选中特征的列名\n",
    "selected_cols = X.columns[fit.support_]\n",
    "\n",
    "print(\"RFE选中的特征：\", list(selected_cols))\n",
    "print(pd.DataFrame(fit.transform(X), columns=selected_cols))"
   ],
   "id": "cc3817b13c71549a",
   "outputs": [
    {
     "name": "stdout",
     "output_type": "stream",
     "text": [
      "RFE选中的特征： ['preg', 'mass', 'pedi']\n",
      "     preg  mass   pedi\n",
      "0     6.0  33.6  0.627\n",
      "1     1.0  26.6  0.351\n",
      "2     8.0  23.3  0.672\n",
      "3     1.0  28.1  0.167\n",
      "4     0.0  43.1  2.288\n",
      "..    ...   ...    ...\n",
      "763  10.0  32.9  0.171\n",
      "764   2.0  36.8  0.340\n",
      "765   5.0  26.2  0.245\n",
      "766   1.0  30.1  0.349\n",
      "767   1.0  30.4  0.315\n",
      "\n",
      "[768 rows x 3 columns]\n"
     ]
    }
   ],
   "execution_count": 4
  },
  {
   "metadata": {
    "ExecuteTime": {
     "end_time": "2025-07-17T09:07:32.588507Z",
     "start_time": "2025-07-17T09:07:32.572584Z"
    }
   },
   "cell_type": "code",
   "source": [
    "from sklearn.decomposition import PCA\n",
    "import pandas as pd\n",
    "\n",
    "# 假设数据已加载为DataFrame，X为特征矩阵\n",
    "names = ['preg', 'plas', 'pres', 'skin', 'test', 'mass', 'pedi', 'age', 'class']\n",
    "data = pd.read_csv('pima_data.csv', names=names)\n",
    "X = data.iloc[:, 0:8]\n",
    "\n",
    "# 创建PCA对象，保留3个主成分\n",
    "pca = PCA(n_components=3)\n",
    "X_pca = pca.fit_transform(X)\n",
    "\n",
    "# 输出每个主成分解释的方差比例\n",
    "print(\"PCA主成分解释方差比：\", pca.explained_variance_ratio_)\n",
    "\n",
    "# 输出降维后的数据\n",
    "print(pd.DataFrame(X_pca, columns=['PC1', 'PC2', 'PC3']))"
   ],
   "id": "287c3f2e4247d78a",
   "outputs": [
    {
     "name": "stdout",
     "output_type": "stream",
     "text": [
      "PCA主成分解释方差比： [0.88854663 0.06159078 0.02579012]\n",
      "           PC1        PC2        PC3\n",
      "0   -75.714655  35.950783   7.260789\n",
      "1   -82.358268 -28.908213   5.496671\n",
      "2   -74.630643  67.906496 -19.461808\n",
      "3    11.077423 -34.898486   0.053018\n",
      "4    89.743788   2.746937 -25.212859\n",
      "..         ...        ...        ...\n",
      "763  99.237881 -25.080927  19.534825\n",
      "764 -78.641239   7.688010   4.137227\n",
      "765  32.113198  -3.376665   1.587864\n",
      "766 -80.214494  14.186020 -12.351264\n",
      "767 -81.308150 -21.621496   8.152768\n",
      "\n",
      "[768 rows x 3 columns]\n"
     ]
    }
   ],
   "execution_count": 5
  },
  {
   "metadata": {
    "ExecuteTime": {
     "end_time": "2025-07-17T09:47:00.965979Z",
     "start_time": "2025-07-17T09:47:00.486590Z"
    }
   },
   "cell_type": "code",
   "source": [
    "from sklearn.ensemble import ExtraTreesClassifier\n",
    "\n",
    "# 加载数据\n",
    "names = ['preg', 'plas', 'pres', 'skin', 'test', 'mass', 'pedi', 'age', 'class']\n",
    "data = pd.read_csv('pima_data.csv', names=names)\n",
    "X = data.iloc[:, 0:8]\n",
    "y = data['class']\n",
    "\n",
    "# 创建极端随机树分类器\n",
    "model = ExtraTreesClassifier()\n",
    "\n",
    "# 拟合模型\n",
    "model.fit(X, y)\n",
    "\n",
    "# 获取每个特征的重要性分数\n",
    "importances = model.feature_importances_\n",
    "\n",
    "# 打印每个特征的重要性\n",
    "for name, score in zip(X.columns, importances):\n",
    "    print(f\"{name}: {score:.4f}\")"
   ],
   "id": "47d0a5918a295774",
   "outputs": [
    {
     "name": "stdout",
     "output_type": "stream",
     "text": [
      "preg: 0.1144\n",
      "plas: 0.2277\n",
      "pres: 0.0978\n",
      "skin: 0.0807\n",
      "test: 0.0755\n",
      "mass: 0.1418\n",
      "pedi: 0.1203\n",
      "age: 0.1417\n"
     ]
    }
   ],
   "execution_count": 6
  }
 ],
 "metadata": {
  "kernelspec": {
   "display_name": "BasicMachineLearning",
   "language": "python",
   "name": "basicmachinelearning"
  },
  "language_info": {
   "codemirror_mode": {
    "name": "ipython",
    "version": 2
   },
   "file_extension": ".py",
   "mimetype": "text/x-python",
   "name": "python",
   "nbconvert_exporter": "python",
   "pygments_lexer": "ipython2",
   "version": "2.7.6"
  }
 },
 "nbformat": 4,
 "nbformat_minor": 5
}
