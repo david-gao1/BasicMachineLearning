{
 "cells": [
  {
   "cell_type": "markdown",
   "id": "7f946d1705e91534",
   "metadata": {},
   "source": [
    "# 数据准备"
   ]
  },
  {
   "cell_type": "code",
   "id": "c509901dd5d39081",
   "metadata": {
    "ExecuteTime": {
     "end_time": "2025-07-17T03:48:25.246518Z",
     "start_time": "2025-07-17T03:48:25.239457Z"
    }
   },
   "source": [
    "import pandas as pd\n",
    "\n",
    "df = pd.read_csv('data.csv')\n",
    "print(\"原始数据：\")\n",
    "print(df)\n",
    "print(df.info())"
   ],
   "outputs": [
    {
     "name": "stdout",
     "output_type": "stream",
     "text": [
      "原始数据：\n",
      "    id    age gender  score  height  weight status\n",
      "0    1   23.0      M   85.0     175      70    已完成\n",
      "1    2   21.0      F   90.0     160      55    已完成\n",
      "2    3   22.0      M   78.0     180      80    进行中\n",
      "3    4   20.0      F   95.0     158      50    已完成\n",
      "4    5    NaN      M  120.0     170      68    已取消\n",
      "5    6   25.0      F    NaN     165      60    已完成\n",
      "6    7   19.0      M   70.0     172      65    已完成\n",
      "7    8   24.0      F  105.0     162      54    进行中\n",
      "8    9  130.0      M   82.0     178      75    已完成\n",
      "9   10   23.0      F   85.0     160      55    已完成\n",
      "10  11   22.0      M   88.0     300      75    已完成\n",
      "11  12   -5.0      F   92.0     150      45    已完成\n",
      "12  13   28.0      M  110.0     180     200    已完成\n",
      "13  14   30.0      F   99.0     165      60    已完成\n",
      "14  15   27.0      M  101.0     170      68    已完成\n",
      "15  16   26.0      F    NaN     165      60    已完成\n",
      "16  17   23.0      M   85.0     175      70    已完成\n",
      "17  18   21.0      F    NaN     160      55    已完成\n",
      "18  19   22.0      M   78.0     180      80    进行中\n",
      "19  20   20.0      F   95.0     158      50    已完成\n",
      "<class 'pandas.core.frame.DataFrame'>\n",
      "RangeIndex: 20 entries, 0 to 19\n",
      "Data columns (total 7 columns):\n",
      " #   Column  Non-Null Count  Dtype  \n",
      "---  ------  --------------  -----  \n",
      " 0   id      20 non-null     int64  \n",
      " 1   age     19 non-null     float64\n",
      " 2   gender  20 non-null     object \n",
      " 3   score   17 non-null     float64\n",
      " 4   height  20 non-null     int64  \n",
      " 5   weight  20 non-null     int64  \n",
      " 6   status  20 non-null     object \n",
      "dtypes: float64(2), int64(3), object(2)\n",
      "memory usage: 1.2+ KB\n",
      "None\n"
     ]
    }
   ],
   "execution_count": 41
  },
  {
   "cell_type": "code",
   "id": "a522f24b11ac665b",
   "metadata": {
    "ExecuteTime": {
     "end_time": "2025-07-17T03:48:38.786928Z",
     "start_time": "2025-07-17T03:48:38.781192Z"
    }
   },
   "source": [
    "# 删除含缺失值的行\n",
    "df_clean = df.dropna()\n",
    "\n",
    "# # 用0填充所有缺失值\n",
    "# df_filled = df.fillna(0)\n",
    "#\n",
    "# # 用每列均值填充\n",
    "# df_mean = df.fillna(df.mean(numeric_only=True))\n",
    "#\n",
    "# # 针对某一列用中位数填充\n",
    "# df['age'] = df['age'].fillna(df['age'].median())\n",
    "\n",
    "# 查看前几行，确认格式和字段\n",
    "print(df_clean.head())\n",
    "# 查看字段类型和缺失情况\n",
    "print(df_clean.info())"
   ],
   "outputs": [
    {
     "name": "stdout",
     "output_type": "stream",
     "text": [
      "   id   age gender  score  height  weight status\n",
      "0   1  23.0      M   85.0     175      70    已完成\n",
      "1   2  21.0      F   90.0     160      55    已完成\n",
      "2   3  22.0      M   78.0     180      80    进行中\n",
      "3   4  20.0      F   95.0     158      50    已完成\n",
      "6   7  19.0      M   70.0     172      65    已完成\n",
      "<class 'pandas.core.frame.DataFrame'>\n",
      "Index: 16 entries, 0 to 19\n",
      "Data columns (total 7 columns):\n",
      " #   Column  Non-Null Count  Dtype  \n",
      "---  ------  --------------  -----  \n",
      " 0   id      16 non-null     int64  \n",
      " 1   age     16 non-null     float64\n",
      " 2   gender  16 non-null     object \n",
      " 3   score   16 non-null     float64\n",
      " 4   height  16 non-null     int64  \n",
      " 5   weight  16 non-null     int64  \n",
      " 6   status  16 non-null     object \n",
      "dtypes: float64(2), int64(3), object(2)\n",
      "memory usage: 1.0+ KB\n",
      "None\n"
     ]
    }
   ],
   "execution_count": 42
  },
  {
   "cell_type": "code",
   "id": "c53061b304b8f266",
   "metadata": {
    "ExecuteTime": {
     "end_time": "2025-07-17T03:50:10.978650Z",
     "start_time": "2025-07-17T03:50:10.973845Z"
    }
   },
   "source": [
    "# 只保留年龄在0~120之间的记录\n",
    "df_valid = df_clean[(df_clean['age'] >= 0) & (df_clean['age'] <= 120)]\n",
    "\n",
    "# 只保留成绩在0~100之间的记录\n",
    "df_valid = df_valid[(df_valid['score'] >= 0) & (df_valid['score'] <= 100)]\n",
    "\n",
    "# 只保留状态为“已完成”的订单\n",
    "df_valid = df_valid[df_valid['status'] == '已完成']\n",
    "\n",
    "# 查看前几行，确认格式和字段\n",
    "print(df_valid.head())\n"
   ],
   "outputs": [
    {
     "name": "stdout",
     "output_type": "stream",
     "text": [
      "   id   age gender  score  height  weight status\n",
      "0   1  23.0      M   85.0     175      70    已完成\n",
      "1   2  21.0      F   90.0     160      55    已完成\n",
      "3   4  20.0      F   95.0     158      50    已完成\n",
      "6   7  19.0      M   70.0     172      65    已完成\n",
      "9  10  23.0      F   85.0     160      55    已完成\n"
     ]
    }
   ],
   "execution_count": 43
  },
  {
   "metadata": {
    "ExecuteTime": {
     "end_time": "2025-07-17T03:55:16.774340Z",
     "start_time": "2025-07-17T03:55:16.769621Z"
    }
   },
   "cell_type": "code",
   "source": [
    "# 作用：从数据集中分离出输入特征（X）。axis=1：按列删除（axis=0是按行删除）\n",
    "X = df_valid.drop(['score', 'gender', 'status'], axis=1)\n",
    "# 作用：提取目标变量（y）。选择 'score' 列作为预测目标\n",
    "# 这是监督学习中的标签（label）\n",
    "y = df_valid['score']\n",
    "print(\"\\n数值型特征X：\")\n",
    "print(X)\n",
    "print(\"\\n目标变量y：\")\n",
    "print(y)"
   ],
   "id": "5c36478c131ad113",
   "outputs": [
    {
     "name": "stdout",
     "output_type": "stream",
     "text": [
      "\n",
      "数值型特征X：\n",
      "    id   age  height  weight\n",
      "0    1  23.0     175      70\n",
      "1    2  21.0     160      55\n",
      "3    4  20.0     158      50\n",
      "6    7  19.0     172      65\n",
      "9   10  23.0     160      55\n",
      "10  11  22.0     300      75\n",
      "13  14  30.0     165      60\n",
      "16  17  23.0     175      70\n",
      "19  20  20.0     158      50\n",
      "\n",
      "目标变量y：\n",
      "0     85.0\n",
      "1     90.0\n",
      "3     95.0\n",
      "6     70.0\n",
      "9     85.0\n",
      "10    88.0\n",
      "13    99.0\n",
      "16    85.0\n",
      "19    95.0\n",
      "Name: score, dtype: float64\n"
     ]
    }
   ],
   "execution_count": 45
  },
  {
   "cell_type": "code",
   "id": "8ac249fc5e18e0c3",
   "metadata": {
    "ExecuteTime": {
     "end_time": "2025-07-17T03:56:47.485945Z",
     "start_time": "2025-07-17T03:56:47.477756Z"
    }
   },
   "source": [
    "from sklearn.feature_selection import VarianceThreshold\n",
    "\n",
    "# 创建方差阈值选择器，设置阈值为0.0。\n",
    "# threshold=0.0：删除方差为0的特征（即所有值都相同的列）\n",
    "# 也可以设置其他阈值，如 threshold=0.1 删除方差小于0.1的特征\n",
    "selector = VarianceThreshold(threshold=0.0)\n",
    "\n",
    "# 对特征矩阵X进行方差阈值选择。\n",
    "# fit_transform()：先拟合（计算每列方差），再转换（删除低方差列）\n",
    "# 返回的是NumPy数组，列名信息丢失\n",
    "X_var = selector.fit_transform(X)\n",
    "# 获取被保留的列名。\n",
    "# selector.get_support()：返回布尔数组，True表示保留的列\n",
    "# indices=True：返回索引而不是布尔值\n",
    "# X.columns[...]：根据索引获取对应的列名\n",
    "selected_columns = X.columns[selector.get_support(indices=True)]\n",
    "# 将NumPy数组转换回pandas DataFrame，并恢复列名。\n",
    "X_var = pd.DataFrame(X_var, columns=selected_columns)\n",
    "print(\"\\n删除方差为0特征后的X：\")\n",
    "print(X_var)"
   ],
   "outputs": [
    {
     "name": "stdout",
     "output_type": "stream",
     "text": [
      "\n",
      "删除方差为0特征后的X：\n",
      "     id   age  height  weight\n",
      "0   1.0  23.0   175.0    70.0\n",
      "1   2.0  21.0   160.0    55.0\n",
      "2   4.0  20.0   158.0    50.0\n",
      "3   7.0  19.0   172.0    65.0\n",
      "4  10.0  23.0   160.0    55.0\n",
      "5  11.0  22.0   300.0    75.0\n",
      "6  14.0  30.0   165.0    60.0\n",
      "7  17.0  23.0   175.0    70.0\n",
      "8  20.0  20.0   158.0    50.0\n"
     ]
    }
   ],
   "execution_count": 46
  },
  {
   "cell_type": "code",
   "id": "c648c7527ffe14b5",
   "metadata": {
    "ExecuteTime": {
     "end_time": "2025-07-17T04:18:21.650339Z",
     "start_time": "2025-07-17T04:18:21.644892Z"
    }
   },
   "source": [
    "# 作用：计算特征与目标变量的相关性矩阵。\n",
    "# pd.concat([X_var, y], axis=1)：将特征矩阵X和目标变量y合并\n",
    "# .corr()：计算皮尔逊相关系数矩阵\n",
    "cor_matrix = pd.concat([X_var, y], axis=1).corr()\n",
    "print(\"\\n相关性矩阵：\")\n",
    "print(cor_matrix)\n",
    "\n",
    "# 作用：找出与目标变量'score'相关性很低的特征。\n",
    "# 获取目标变量'score'与其他特征的相关性,并筛选出小于0.3的特征\n",
    "low_corr = cor_matrix['score'].abs() < 0.3\n",
    "print(\"===========\")\n",
    "print(low_corr)\n",
    "# 作用：获取需要删除的列名。\n",
    "# 这是布尔索引，只保留值为 True 的行：\n",
    "drop_cols = low_corr[low_corr].index\n",
    "X_corr = X_var.drop(columns=drop_cols)\n",
    "\n",
    "print(\"\\n删除相关性低特征后的X：\")\n",
    "print(X_corr)"
   ],
   "outputs": [
    {
     "name": "stdout",
     "output_type": "stream",
     "text": [
      "\n",
      "相关性矩阵：\n",
      "              id       age    height    weight     score\n",
      "id      1.000000  0.233823  0.069203 -0.031490 -0.674926\n",
      "age     0.233823  1.000000 -0.016136  0.173211 -0.999220\n",
      "height  0.069203 -0.016136  1.000000  0.681087  0.204757\n",
      "weight -0.031490  0.173211  0.681087  1.000000  0.119523\n",
      "score  -0.674926 -0.999220  0.204757  0.119523  1.000000\n",
      "===========\n",
      "id        False\n",
      "age       False\n",
      "height     True\n",
      "weight     True\n",
      "score     False\n",
      "Name: score, dtype: bool\n",
      "\n",
      "删除相关性低特征后的X：\n",
      "     id   age\n",
      "0   1.0  23.0\n",
      "1   2.0  21.0\n",
      "2   4.0  20.0\n",
      "3   7.0  19.0\n",
      "4  10.0  23.0\n",
      "5  11.0  22.0\n",
      "6  14.0  30.0\n",
      "7  17.0  23.0\n",
      "8  20.0  20.0\n"
     ]
    }
   ],
   "execution_count": 51
  },
  {
   "metadata": {
    "ExecuteTime": {
     "end_time": "2025-07-17T04:22:51.109103Z",
     "start_time": "2025-07-17T04:22:51.104279Z"
    }
   },
   "cell_type": "code",
   "source": [
    "from sklearn.feature_selection import SelectKBest, f_regression\n",
    "# 创建特征选择器\n",
    "# score_func=f_regression：使用F统计量作为评分函数\n",
    "# k=min(3, X_corr.shape[1])：选择前k个特征，最多选3个，不超过现有特征数\n",
    "# X_corr.shape[1]：当前特征矩阵的列数\n",
    "selector = SelectKBest(score_func=f_regression, k=min(3, X_corr.shape[1]))\n",
    "# 执行特征选择\n",
    "# fit_transform()：先拟合（计算F统计量），再转换（选择特征）\n",
    "# X_corr：输入特征矩阵、y：目标变量、 返回NumPy数组，只包含选中的特征\n",
    "X_best = selector.fit_transform(X_corr, y)\n",
    "# 获取被选中特征的列名\n",
    "# selector.get_support()：返回布尔数组，True表示被选中的特征\n",
    "# indices=True：返回索引而不是布尔值\n",
    "# X_corr.columns[...]：根据索引获取对应的列名\n",
    "best_columns = X_corr.columns[selector.get_support(indices=True)]\n",
    "print(\"\\nSelectKBest筛选后的特征：\", list(best_columns))\n",
    "print(pd.DataFrame(X_best, columns=best_columns))"
   ],
   "id": "1e728c350dc8298a",
   "outputs": [
    {
     "name": "stdout",
     "output_type": "stream",
     "text": [
      "\n",
      "SelectKBest筛选后的特征： ['id', 'age']\n",
      "     id   age\n",
      "0   1.0  23.0\n",
      "1   2.0  21.0\n",
      "2   4.0  20.0\n",
      "3   7.0  19.0\n",
      "4  10.0  23.0\n",
      "5  11.0  22.0\n",
      "6  14.0  30.0\n",
      "7  17.0  23.0\n",
      "8  20.0  20.0\n"
     ]
    }
   ],
   "execution_count": 52
  }
 ],
 "metadata": {
  "kernelspec": {
   "display_name": "BasicMachineLearning",
   "language": "python",
   "name": "basicmachinelearning"
  },
  "language_info": {
   "codemirror_mode": {
    "name": "ipython",
    "version": 2
   },
   "file_extension": ".py",
   "mimetype": "text/x-python",
   "name": "python",
   "nbconvert_exporter": "python",
   "pygments_lexer": "ipython2",
   "version": "2.7.6"
  }
 },
 "nbformat": 4,
 "nbformat_minor": 5
}
